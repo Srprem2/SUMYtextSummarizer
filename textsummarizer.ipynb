{
 "cells": [
  {
   "cell_type": "code",
   "execution_count": 9,
   "metadata": {},
   "outputs": [],
   "source": [
    "from sumy.parsers.html import HtmlParser\n",
    "from sumy.nlp.tokenizers import Tokenizer\n",
    "from sumy.summarizers.lex_rank import LexRankSummarizer"
   ]
  },
  {
   "cell_type": "code",
   "execution_count": 17,
   "metadata": {},
   "outputs": [],
   "source": [
    "url = \"https://www.squarespace.com/?clickid=Xid3AjTmxxyPUQnXF6yx6y2jUkH2eOw1qWPwxQ0&irgwc=1&utm_medium=pp&utm_source=DMS%20CD%20%28Netherlands%29%20B.V.&utm_campaign=DMS%20CD%20%28Netherlands%29%20B.V.&channel=pp&subchannel=1934383&source=DMS%20CD%20%28Netherlands%29%20B.V.#https://squarespace.syuh.net/m50YZZ#\"\n",
    "tokenizer = Tokenizer(\"english\")\n",
    "parser = HtmlParser.from_url(url, tokenizer)\n",
    "summarizer = LexRankSummarizer()"
   ]
  },
  {
   "cell_type": "code",
   "execution_count": 18,
   "metadata": {},
   "outputs": [],
   "source": [
    "sentences_count = 5\n",
    "summary = summarizer(parser.document, sentences_count)\n"
   ]
  },
  {
   "cell_type": "code",
   "execution_count": 19,
   "metadata": {},
   "outputs": [
    {
     "name": "stdout",
     "output_type": "stream",
     "text": [
      "Squarespace is an all-in-one content management system, or CMS.\n",
      "With a single subscription, you can make a website, host your content, register your own custom domain name, sell products, track your site’s analytics, and much more.\n",
      "Start with any template to create pages and organize your site, then customize it to match your own style with our industry-leading website builder.\n",
      "For a full list of features, visit our feature index and explore the Help Center for guides on Squarespace's many features.\n"
     ]
    }
   ],
   "source": [
    "for sentence in summary:\n",
    "    print(sentence)"
   ]
  },
  {
   "cell_type": "code",
   "execution_count": 4,
   "metadata": {},
   "outputs": [
    {
     "name": "stderr",
     "output_type": "stream",
     "text": [
      "[nltk_data] Downloading package punkt to\n",
      "[nltk_data]     C:\\Users\\Admin\\AppData\\Roaming\\nltk_data...\n",
      "[nltk_data]   Unzipping tokenizers\\punkt.zip.\n"
     ]
    },
    {
     "data": {
      "text/plain": [
       "True"
      ]
     },
     "execution_count": 4,
     "metadata": {},
     "output_type": "execute_result"
    }
   ],
   "source": [
    "import nltk\n",
    "nltk.download('punkt')\n"
   ]
  },
  {
   "cell_type": "code",
   "execution_count": 1,
   "metadata": {},
   "outputs": [
    {
     "name": "stdout",
     "output_type": "stream",
     "text": [
      "2730e0ba6d56c93e92260f24039f0ba74f8c8c311e6e067b5dea6465fb9eeb9e\n"
     ]
    }
   ],
   "source": [
    "import secrets\n",
    "\n",
    "secret_key = secrets.token_hex(32)  # Generate a 32-byte (256-bit) hex-encoded key\n",
    "print(secret_key)\n"
   ]
  }
 ],
 "metadata": {
  "kernelspec": {
   "display_name": "Python 3",
   "language": "python",
   "name": "python3"
  },
  "language_info": {
   "codemirror_mode": {
    "name": "ipython",
    "version": 3
   },
   "file_extension": ".py",
   "mimetype": "text/x-python",
   "name": "python",
   "nbconvert_exporter": "python",
   "pygments_lexer": "ipython3",
   "version": "3.11.0"
  }
 },
 "nbformat": 4,
 "nbformat_minor": 2
}
